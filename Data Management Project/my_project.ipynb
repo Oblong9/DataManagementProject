{
 "cells": [
  {
   "cell_type": "markdown",
   "id": "c1a08017",
   "metadata": {},
   "source": [
    "Before you turn this problem in, make sure everything runs as expected. First, **restart the kernel** (in the menubar, select Kernel $\\rightarrow$ Restart) and then **run all cells** (in the menubar, select Cell $\\rightarrow$ Run All).\n",
    "\n",
    "Make sure you fill in any place that says `YOUR CODE HERE` or \"YOUR ANSWER HERE\", as well as your name and collaborators below:"
   ]
  },
  {
   "cell_type": "code",
   "execution_count": 1,
   "id": "f8756ad5",
   "metadata": {},
   "outputs": [],
   "source": [
    "NAME = \"Spencer Mui\"\n",
    "COLLABORATORS = \"\""
   ]
  },
  {
   "cell_type": "markdown",
   "id": "385a1a27",
   "metadata": {},
   "source": [
    "---"
   ]
  },
  {
   "cell_type": "markdown",
   "id": "75f541c4-813d-4efc-976a-8ed16dcecd05",
   "metadata": {},
   "source": [
    "#### Below is the code to download the kaggle dataset if csv does not work"
   ]
  },
  {
   "cell_type": "code",
   "execution_count": 2,
   "id": "3d634128-4cf0-409f-bb67-d9d056732a01",
   "metadata": {},
   "outputs": [],
   "source": [
    "# Link: https://www.kaggle.com/datasets/yusufdelikkaya/datascience-salaries-2024?resource=download\n",
    "#import kagglehub\n",
    "\n",
    "# Download latest version\n",
    "#path = kagglehub.dataset_download(\"yusufdelikkaya/datascience-salaries-2024\")\n",
    "\n",
    "#print(\"Path to dataset files:\", path)"
   ]
  },
  {
   "cell_type": "markdown",
   "id": "e6ca75e8-5131-4a72-8cc4-b8d8ee4ea70d",
   "metadata": {},
   "source": [
    "* - Denotes pieces of the project that will not be implemented but explained\n",
    "\n",
    "1. Data Collection\n",
    "Extract data from Kaggle data set \n",
    "Inject random unrelated variables/missing variables into dataset (for data cleaning)\n",
    "Gather data from job boards *\n",
    "Including job board listings would add more validity to the data set and add more data to interpret\n",
    "\n",
    "2. Data Handling\n",
    "Error handle potential defects from csv file\n",
    "Remove extraneous data\n",
    "Handle missing values in Pandas by removing data that cannot be interpreted\n",
    "Delete duplicate data from job boards*\n",
    "Job boards have many incorrect values and variables, many of which are not important for interpretation or completely invalidate the dataset. For example, job postings for internships that are actually full-time jobs and vice-versa can be incorrectly listed, leading to incorrect data and models.\n",
    "\n",
    "3. Databases\n",
    "Design SQL database to perpetually store collected data\n",
    "Create Job_Posting to store data of job market, contains data such as posted date and job type * (Will be entered into the SQL database but will not contain any data inside)\n",
    "Create Historic_Jobs to store data of disclosed salaries and relevant jobs information\n",
    "Create structure to store collected data into SQL\n",
    "Load existing data into the new database\n",
    "Verify correctness of loaded data\n",
    "Checks to make sure all the data entered into SQL is accurate, to test this, query SQL and check the first 3 lines are entered correctly\n",
    "\n",
    "3. Modeling\n",
    "Calculate mean and variance for data\n",
    "Remove data outliers\n",
    "Create Z-Score normalization of data\n",
    "Split dataset into testing and prediction sets\n",
    "Use linear regression to calculate prediction model\n",
    "Visualize current data\n",
    "Show the job markets with data science\n",
    "\n",
    "4. Analysis\n",
    "Use model to predict salaries over the next 5 years\n",
    "Visualize prediction showing both historic and new data points\n",
    "Create graphs to visualize the growth of jobs and salaries in the industry\n",
    "Show the countries with a high demand for data science employees\n",
    "Produce R2 Scores\n",
    "Calculate the Mean Squared Error\n",
    "Compare the historical data to the current prediction model\n",
    "\n",
    "'''"
   ]
  },
  {
   "cell_type": "code",
   "execution_count": 2,
   "id": "abd80fc6-5423-4a1c-827f-f4d951b92076",
   "metadata": {},
   "outputs": [],
   "source": [
    "# Needed import statements\n",
    "import pandas as pd\n",
    "import numpy as np\n",
    "import random\n",
    "import csv\n",
    "import matplotlib.pyplot as plt # adjust this to get the proper graph from matlotlib\n",
    "\n",
    "# SQL imports\n",
    "import sqlite3\n",
    "from sqlalchemy import create_engine, text\n",
    "\n",
    "# imports for all metric testing and ML work\n",
    "from sklearn.preprocessing import OneHotEncoder\n",
    "from sklearn.preprocessing import MinMaxScaler\n",
    "from sklearn.linear_model import LinearRegression\n",
    "from sklearn.model_selection import train_test_split\n",
    "from sklearn.metrics import mean_squared_error, r2_score"
   ]
  },
  {
   "cell_type": "markdown",
   "id": "3d52fe65-de7a-4ab0-ae47-0ff6b64affc3",
   "metadata": {},
   "source": [
    "### 1. Data Collection\n",
    "Import csv file to pandas dataframe, add null data"
   ]
  },
  {
   "cell_type": "code",
   "execution_count": 3,
   "id": "8befd46d-e3ae-4410-92fd-7374b139a8df",
   "metadata": {},
   "outputs": [
    {
     "name": "stdout",
     "output_type": "stream",
     "text": [
      "Data Preview:\n",
      "    work_year experience_level employment_type                       job_title  \\\n",
      "0     2021.0               MI              FT                  Data Scientist   \n",
      "1     2021.0               MI              FT                 BI Data Analyst   \n",
      "2     2020.0               MI              FT                  Data Scientist   \n",
      "3     2021.0               MI              FT                     ML Engineer   \n",
      "4     2022.0               SE              FT  Lead Machine Learning Engineer   \n",
      "\n",
      "       salary salary_currency  salary_in_usd employee_residence  remote_ratio  \\\n",
      "0  30400000.0             CLP        40038.0                 CL         100.0   \n",
      "1  11000000.0             HUF        36259.0                 HU          50.0   \n",
      "2  11000000.0             HUF        35735.0                 HU          50.0   \n",
      "3   8500000.0             JPY        77364.0                 JP          50.0   \n",
      "4   7500000.0             INR        95386.0                 IN          50.0   \n",
      "\n",
      "  company_location  \n",
      "0               CL  \n",
      "1               US  \n",
      "2               HU  \n",
      "3               JP  \n",
      "4               IN  \n",
      "Data Size: 17063\n"
     ]
    }
   ],
   "source": [
    "df = pd.read_csv('DataScience_salaries_2024.csv')\n",
    "df = df.drop(['company_size'], axis = 1) # Unrelated information\n",
    "\n",
    "# Add incorrect data\n",
    "# 15% of data will be incorrect and stored in different locations in the dataframe\n",
    "df_size = len(df)\n",
    "np.random.seed(9)\n",
    "num_incorrect_indices = int(df_size * 0.15)\n",
    "incorrect_indices = random.sample(range(df_size), num_incorrect_indices)\n",
    "invalid_data = df.iloc[incorrect_indices].copy()\n",
    "for index in range(len(invalid_data)):\n",
    "    repeat_nan = random.randint(1, 3)\n",
    "    for i in range(repeat_nan):\n",
    "        invalid_data.iloc[index, [random.randint(0, 9)]] = np.nan\n",
    "\n",
    "df = pd.concat([df, invalid_data], ignore_index = True)\n",
    "print(\"Data Preview:\\n\", df.head())\n",
    "print(\"Data Size:\",len(df))"
   ]
  },
  {
   "cell_type": "markdown",
   "id": "6ff7a3b2-8f87-4872-b77a-ab278b95879d",
   "metadata": {},
   "source": [
    "### 2. Data Handling\n",
    "Remove null or missing values "
   ]
  },
  {
   "cell_type": "code",
   "execution_count": 4,
   "id": "f8f65177-61cf-40f0-a379-b17e7caf19d2",
   "metadata": {},
   "outputs": [
    {
     "name": "stdout",
     "output_type": "stream",
     "text": [
      "work_year             414\n",
      "experience_level      419\n",
      "employment_type       455\n",
      "job_title             424\n",
      "salary                410\n",
      "salary_currency       417\n",
      "salary_in_usd         398\n",
      "employee_residence    458\n",
      "remote_ratio          416\n",
      "company_location      382\n",
      "dtype: int64\n",
      "Removed amount of data: 2225\n",
      "Removed percent(~15%): 0.14995282383070485\n"
     ]
    }
   ],
   "source": [
    "missing_data = df.apply(lambda x: sum(x.isnull()), axis = 0)\n",
    "print(missing_data)\n",
    "\n",
    "null_rows = df.apply(lambda x: x.isnull())\n",
    "#print(null_rows)\n",
    "\n",
    "for i in range(len(df)):\n",
    "    if (null_rows['work_year'][i] == True or null_rows['experience_level'][i] == True or\n",
    "        null_rows['employment_type'][i] == True or null_rows['job_title'][i] == True or\n",
    "        null_rows['salary'][i] == True or null_rows['salary_currency'][i] == True or\n",
    "        null_rows['salary_in_usd'][i] == True or null_rows['employee_residence'][i] == True or\n",
    "        null_rows['remote_ratio'][i] == True or null_rows['company_location'][i] == True):\n",
    "        df = df.drop([i])\n",
    "#print(df)\n",
    "print(f'Removed amount of data: {len(null_rows) - len(df)}\\nRemoved percent(~15%): {len(null_rows)/len(df) - 1}')"
   ]
  },
  {
   "cell_type": "markdown",
   "id": "a8ef7766-5dcd-451c-8336-b0a49bd68fe7",
   "metadata": {},
   "source": [
    "### 3. Database\n",
    "Create SQL database to store locally inside the project, load data into database"
   ]
  },
  {
   "cell_type": "code",
   "execution_count": 5,
   "id": "85033b5e-7ccb-4301-8788-ed9838f0a83b",
   "metadata": {},
   "outputs": [],
   "source": [
    "# Function for user to verify dataframe loaded into database\n",
    "def check_input(connection, table):\n",
    "    cursor = connection.execute(f'''SELECT * FROM {table} LIMIT 10''')\n",
    "    rows = cursor.fetchall()\n",
    "    for row in rows:\n",
    "        print(row)\n",
    "\n",
    "# Function to read in all data from database\n",
    "def read_input(connection, table):\n",
    "    cursor = connection.execute(f'''SELECT * FROM {table}''')\n",
    "    rows = cursor.fetchall()\n",
    "    return rows "
   ]
  },
  {
   "cell_type": "code",
   "execution_count": 6,
   "id": "75e87ec7-e3f8-483a-b106-52d8fe97efa6",
   "metadata": {},
   "outputs": [],
   "source": [
    "# Establish connection\n",
    "connection = sqlite3.connect('ds_salaries.db')\n",
    "\n",
    "engine = create_engine('sqlite:///ds_salaries.db')\n",
    "df.to_sql('historic_data', con=engine, if_exists='replace', index=True, index_label='row_id') \n",
    "\n",
    "# Adding table for job_postings\n",
    "cursor = connection.execute('''\n",
    "CREATE TABLE IF NOT EXISTS job_postings(\n",
    "    job_id INT PRIMARY KEY,\n",
    "    job_date DATE,\n",
    "    job_type VARCHAR(50),\n",
    "    salary INT\n",
    ");\n",
    "''')"
   ]
  },
  {
   "cell_type": "markdown",
   "id": "0b30c03c-3d39-40f9-98d4-dda5a7e1511a",
   "metadata": {},
   "source": [
    "Run this code only if ds_salaries.db has not created the postings already"
   ]
  },
  {
   "cell_type": "code",
   "execution_count": 7,
   "id": "4f08fd53-244f-41bc-8047-f6d49f31ee63",
   "metadata": {},
   "outputs": [],
   "source": [
    "with engine.connect() as conn:\n",
    "    with conn.begin():\n",
    "        conn.execute(text('''INSERT INTO job_postings \n",
    "                                (job_id, job_date, job_type, salary)\n",
    "                            VALUES \n",
    "                                (1, 2024-01-01, 'Entry-Level Data Scientist', 60000),\n",
    "                                (2, 2024-02-01, 'Senior Data Scientist', 120000),\n",
    "                                (3, 2024-03-01, 'Data Analyst', 85000);\n",
    "                                '''))"
   ]
  },
  {
   "cell_type": "code",
   "execution_count": 8,
   "id": "71bc92d4-6103-4e7f-a1de-0a50d3d46bd6",
   "metadata": {},
   "outputs": [
    {
     "name": "stdout",
     "output_type": "stream",
     "text": [
      "Historic Jobs:\n",
      "(0, 2021.0, 'MI', 'FT', 'Data Scientist', 30400000.0, 'CLP', 40038.0, 'CL', 100.0, 'CL')\n",
      "(1, 2021.0, 'MI', 'FT', 'BI Data Analyst', 11000000.0, 'HUF', 36259.0, 'HU', 50.0, 'US')\n",
      "(2, 2020.0, 'MI', 'FT', 'Data Scientist', 11000000.0, 'HUF', 35735.0, 'HU', 50.0, 'HU')\n",
      "(3, 2021.0, 'MI', 'FT', 'ML Engineer', 8500000.0, 'JPY', 77364.0, 'JP', 50.0, 'JP')\n",
      "(4, 2022.0, 'SE', 'FT', 'Lead Machine Learning Engineer', 7500000.0, 'INR', 95386.0, 'IN', 50.0, 'IN')\n",
      "(5, 2021.0, 'MI', 'FT', 'ML Engineer', 7000000.0, 'JPY', 63711.0, 'JP', 50.0, 'JP')\n",
      "(6, 2021.0, 'SE', 'FT', 'Data Science Manager', 7000000.0, 'INR', 94665.0, 'IN', 50.0, 'IN')\n",
      "(7, 2022.0, 'EN', 'FT', 'Data Scientist', 6600000.0, 'HUF', 17684.0, 'HU', 100.0, 'HU')\n",
      "(8, 2022.0, 'EX', 'FT', 'Head of Machine Learning', 6000000.0, 'INR', 76309.0, 'IN', 50.0, 'IN')\n",
      "(9, 2022.0, 'EN', 'FT', 'Research Engineer', 5500000.0, 'JPY', 41809.0, 'JP', 50.0, 'JP')\n",
      "Job Postings: \n",
      "(1, 2022, 'Entry-Level Data Scientist', 60000)\n",
      "(2, 2021, 'Senior Data Scientist', 120000)\n",
      "(3, 2020, 'Data Analyst', 85000)\n"
     ]
    }
   ],
   "source": [
    "print(\"Historic Jobs:\")\n",
    "check_input(connection, 'historic_data')\n",
    "\n",
    "print(\"Job Postings: \")\n",
    "check_input(connection, 'job_postings')"
   ]
  },
  {
   "cell_type": "markdown",
   "id": "93dcda0e-bf53-4522-b4d7-b3256809d9eb",
   "metadata": {},
   "source": [
    "### 4. Modeling\n",
    "Download information from database and create linear regression for data analysis"
   ]
  },
  {
   "cell_type": "code",
   "execution_count": 9,
   "id": "d2356a75-8e6a-4008-8af4-2d9960e6e7f4",
   "metadata": {},
   "outputs": [
    {
     "name": "stdout",
     "output_type": "stream",
     "text": [
      "The average salary in USD for data science is: $149874.72\n",
      "(14838, 11)\n",
      "(14709, 11)\n"
     ]
    }
   ],
   "source": [
    "# Load data from database\n",
    "new_connection = sqlite3.connect('ds_salaries.db')\n",
    "model_df = pd.read_sql_query(\"SELECT * FROM historic_data\", new_connection)\n",
    "\n",
    "# Find mean of salaries in USD\n",
    "print(f'The average salary in USD for data science is: ${round(model_df[\"salary_in_usd\"].mean(), 2)}')\n",
    "\n",
    "# Finds the deviation of each row in the model from the standard (Z-Score Normalization)\n",
    "standard_salary = (model_df[\"salary_in_usd\"] - model_df[\"salary_in_usd\"].mean())/model_df[\"salary_in_usd\"].std()\n",
    "print(model_df.shape)\n",
    "\n",
    "# Remove any outliers from data\n",
    "for i in range(len(df)):\n",
    "    if standard_salary[i] > 3 or standard_salary[i] < -3:\n",
    "        model_df = model_df.drop(index = i)\n",
    "        \n",
    "print(model_df.shape)"
   ]
  },
  {
   "cell_type": "markdown",
   "id": "79d40d16-8f47-41e0-998a-5fbc23e3ac87",
   "metadata": {},
   "source": [
    "##### Important information about graphs\n",
    "EN = Entry, MI = Mid-level, SE = Senior, EX = Expert (in order of lowest to highest experience)"
   ]
  },
  {
   "cell_type": "code",
   "execution_count": 10,
   "id": "50d4208a-6650-4189-9937-5066d61e41ed",
   "metadata": {},
   "outputs": [
    {
     "data": {
      "text/plain": [
       "Text(0, 0.5, 'Salary')"
      ]
     },
     "execution_count": 10,
     "metadata": {},
     "output_type": "execute_result"
    },
    {
     "data": {
      "image/png": "[encoded data removed]",
      "text/plain": [
       "<Figure size 640x480 with 1 Axes>"
      ]
     },
     "metadata": {},
     "output_type": "display_data"
    }
   ],
   "source": [
    "# Create current visualizations\n",
    "grouped_df = model_df.groupby(['work_year', 'experience_level'])['salary_in_usd'].mean()\n",
    "\n",
    "# EN = Entry, MI = Mid-level, SE = Senior, EX = Expert (in order of highets to lowest salary\n",
    "#print(grouped_df)\n",
    "grouped_df.plot(kind='bar')\n",
    "plt.title('Salary in USD by year and Experience')\n",
    "plt.xlabel('Year and Experience')\n",
    "plt.ylabel('Salary')"
   ]
  },
  {
   "cell_type": "code",
   "execution_count": null,
   "id": "f02cea8d-b123-4666-b0f0-166d49e78a01",
   "metadata": {},
   "outputs": [],
   "source": [
    "# Plots a density graph that shows the salary spread across experience level\n",
    "grouped2_df = model_df.groupby(['experience_level'])['salary_in_usd']\n",
    "\n",
    "grouped2_df.plot(kind='density')\n",
    "plt.xlim(-10000, 375000)\n",
    "plt.legend(title='Experience Level')"
   ]
  },
  {
   "cell_type": "markdown",
   "id": "26bb7e1b-3d23-400b-8089-7f509bf55b59",
   "metadata": {},
   "source": [
    "### 5. Analysis\n",
    "Create linear regression model, calculate R2 scores and error margins, predict salaries, visualize data "
   ]
  },
  {
   "cell_type": "code",
   "execution_count": 12,
   "id": "89148d6f-c893-4e7b-b45c-ce677088010a",
   "metadata": {},
   "outputs": [
    {
     "name": "stdout",
     "output_type": "stream",
     "text": [
      "Mean Squared Error: 0.03\n",
      "R2 Score: 0.16\n"
     ]
    }
   ],
   "source": [
    "# Craete linear regression model\n",
    "correct_df = model_df[['experience_level']].copy()\n",
    "\n",
    "encoder = OneHotEncoder()\n",
    "one_hot_encoded = encoder.fit_transform(correct_df[['experience_level']]).toarray()\n",
    "one_hot_encoded_df = pd.DataFrame(one_hot_encoded, columns = ['EN', 'MI', 'SE', 'EX'])\n",
    "\n",
    "#print(one_hot_encoded)\n",
    "\n",
    "scaler = MinMaxScaler()\n",
    "scaled_df = pd.concat([model_df[['salary_in_usd']], one_hot_encoded_df], axis=1, join='outer').fillna(0)\n",
    "scaled_df = pd.DataFrame(scaler.fit_transform(scaled_df), columns = scaled_df.columns)\n",
    "\n",
    "#print(scaled_df)\n",
    "\n",
    "X = scaled_df[['EN', 'MI', 'SE', 'EX']]\n",
    "Y = scaled_df[['salary_in_usd']]\n",
    "\n",
    "X_train, X_test, Y_train, Y_test = train_test_split(X, Y, test_size=0.5)\n",
    "\n",
    "model = LinearRegression()\n",
    "model.fit(X_train, Y_train)\n",
    "Y_predict = model.predict(X_test)\n",
    "\n",
    "print(f'Mean Squared Error: {mean_squared_error(Y_test, Y_predict):.2f}')\n",
    "print(f\"R2 Score: {r2_score(Y_test, Y_predict):.2f}\")\n",
    "\n",
    "prediction_df = pd.DataFrame(scaler.inverse_transform(scaled_df), columns = scaled_df.columns)"
   ]
  },
  {
   "cell_type": "code",
   "execution_count": 13,
   "id": "1900f069-aa3b-4503-8bf6-465ee9276557",
   "metadata": {},
   "outputs": [
    {
     "name": "stdout",
     "output_type": "stream",
     "text": [
      "       salary_in_usd experience_level\n",
      "0            40038.0               SE\n",
      "1            36259.0               SE\n",
      "2            35735.0               SE\n",
      "3            77364.0               SE\n",
      "4            95386.0               EX\n",
      "...              ...              ...\n",
      "14833            0.0               EX\n",
      "14834            0.0               EX\n",
      "14835            0.0               EX\n",
      "14836            0.0               MI\n",
      "14837            0.0               EX\n",
      "\n",
      "[14838 rows x 2 columns]\n"
     ]
    }
   ],
   "source": [
    "def unencode(row):\n",
    "    for c in prediction_df.columns:\n",
    "        if row[c] == 1:\n",
    "            return c\n",
    "\n",
    "unencoded_df = prediction_df.apply(unencode, axis=1)\n",
    "predcition_df = prediction_df.drop(['EN', 'MI', 'SE', 'EX'], axis=1)\n",
    "prediction_df = pd.concat([predcition_df, unencoded_df], ignore_index = True, axis=1)\n",
    "prediction_df.columns = ['salary_in_usd', 'experience_level']\n",
    "print(prediction_df)"
   ]
  },
  {
   "cell_type": "code",
   "execution_count": null,
   "id": "9bdc3291-a4dd-4e03-ad17-c3b1d9382685",
   "metadata": {},
   "outputs": [],
   "source": [
    "new_df = prediction_df.groupby(['experience_level'])['salary_in_usd']\n",
    "new_df.plot(kind='density')\n",
    "plt.xlim(-10000, 375000)\n",
    "plt.legend(title='Experience Level')"
   ]
  },
  {
   "cell_type": "code",
   "execution_count": 15,
   "id": "623e7f1c-98e3-4810-ac75-49a556f9c2a4",
   "metadata": {},
   "outputs": [
    {
     "name": "stdout",
     "output_type": "stream",
     "text": [
      "experience_level\n",
      "EN     95495.082825\n",
      "EX    160307.608302\n",
      "MI    178285.067130\n",
      "SE    123346.404207\n",
      "Name: salary_in_usd, dtype: float64\n"
     ]
    },
    {
     "data": {
      "text/plain": [
       "Text(0.5, 0, 'Experience Level')"
      ]
     },
     "execution_count": 15,
     "metadata": {},
     "output_type": "execute_result"
    },
    {
     "data": {
      "image/png": "[encoded data removed]",
      "text/plain": [
       "<Figure size 640x480 with 1 Axes>"
      ]
     },
     "metadata": {},
     "output_type": "display_data"
    }
   ],
   "source": [
    "df2 = prediction_df.groupby(['experience_level'])['salary_in_usd'].mean()\n",
    "print(df2)\n",
    "df2.plot(kind='bar')\n",
    "plt.ylabel('Salary')\n",
    "plt.xlabel('Experience Level')"
   ]
  },
  {
   "cell_type": "code",
   "execution_count": 21,
   "id": "5cd8975d-f24d-4e7f-be82-0445f9e72875",
   "metadata": {},
   "outputs": [
    {
     "data": {
      "text/plain": [
       "Text(0, 0.5, 'Salary')"
      ]
     },
     "execution_count": 21,
     "metadata": {},
     "output_type": "execute_result"
    },
    {
     "data": {
      "image/png": "[encoded data removed]",
      "text/plain": [
       "<Figure size 640x480 with 1 Axes>"
      ]
     },
     "metadata": {},
     "output_type": "display_data"
    }
   ],
   "source": [
    "grouped_df.plot(kind='bar')\n",
    "plt.title('Salary in USD by year and Experience')\n",
    "plt.xlabel('Year and Experience')\n",
    "plt.ylabel('Salary')"
   ]
  },
  {
   "cell_type": "code",
   "execution_count": null,
   "id": "fc9b4c7c-6258-45a9-8651-6b111c8305c5",
   "metadata": {},
   "outputs": [],
   "source": []
  }
 ],
 "metadata": {
  "kernelspec": {
   "display_name": "Python 3 (ipykernel)",
   "language": "python",
   "name": "python3"
  },
  "language_info": {
   "codemirror_mode": {
    "name": "ipython",
    "version": 3
   },
   "file_extension": ".py",
   "mimetype": "text/x-python",
   "name": "python",
   "nbconvert_exporter": "python",
   "pygments_lexer": "ipython3",
   "version": "3.12.2"
  }
 },
 "nbformat": 4,
 "nbformat_minor": 5
}
